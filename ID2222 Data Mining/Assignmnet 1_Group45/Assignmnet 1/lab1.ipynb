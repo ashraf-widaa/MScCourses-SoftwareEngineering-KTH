{
 "cells": [
  {
   "cell_type": "markdown",
   "id": "d6438d02-7ca2-46f2-9cac-3e9addc249bd",
   "metadata": {},
   "source": [
    "# Text similarity TASK 1"
   ]
  },
  {
   "cell_type": "code",
   "execution_count": 1,
   "id": "0e3d2991-d7ff-48b0-90fa-fcfb10e2c573",
   "metadata": {},
   "outputs": [],
   "source": [
    "import pandas as pd\n",
    "import hashlib\n",
    "import os # currentpath (not used)\n",
    "import glob # find directory\n",
    "import numpy as np \n",
    "import re"
   ]
  },
  {
   "cell_type": "markdown",
   "id": "7aa554df-1fc8-4efb-8967-25763eaedb2c",
   "metadata": {},
   "source": [
    "Load data_set\n",
    "To read the dataset we use the pandas library:import pandas as pd\n",
    "\n",
    "We  use Dataset For Exploring Climate Change Narratives On Television News 2009-2020, from https://blog.gdeltproject.org/a-new-dataset-for-exploring-climate-change-narratives-on-television-news-2009-2020/"
   ]
  },
  {
   "cell_type": "markdown",
   "id": "1b5837da-85dd-44be-ae68-9b37fffb68fd",
   "metadata": {},
   "source": [
    "Sort and Data (we are intetsted in the Snippet column in each file) "
   ]
  },
  {
   "cell_type": "code",
   "execution_count": 2,
   "id": "ad2d9104-82a4-4b56-b95a-44f8374f0c21",
   "metadata": {},
   "outputs": [],
   "source": [
    "# Get CSV files list from a folder\n",
    "#print (glob.glob(\"*/\"))\n",
    "csv_files = glob.glob(\"*/*.csv\")\n",
    "#print(csv_files)\n",
    "# Read each CSV file into DataFrame\n",
    "# This creates a list of dataframes\n",
    "#files_list = (pd.read_csv(file) for file in csv_files)\n",
    "#file_data = pd.read_csv(csv_files[0], delimiter=\",\")\n",
    "#file_data.head()\n",
    "counter = 0\n",
    "df_files = []\n",
    "output_directory = os.path.join(os.getcwd(), \"Data_txt\")\n",
    "\n",
    "# Check if the output directory exists, create it if not\n",
    "if not os.path.exists(output_directory):\n",
    "    os.makedirs(output_directory)\n",
    "\n",
    "for counter, csv_file in enumerate(csv_files):\n",
    "    df_files = pd.read_csv(csv_file, usecols=['Snippet'])\n",
    "    file_name_new = 'TextFile_{}.txt'.format(counter)\n",
    "    file_new = os.path.join(output_directory, file_name_new)\n",
    "\n",
    "    with open(file_new, \"w+\",encoding='utf-8') as file:\n",
    "        df_files['Snippet'] = df_files['Snippet']\n",
    "        df_string = df_files.to_string(header=False, index=False)\n",
    "        file.write(df_string)\n",
    "\n",
    "    # Reopen the file for reading and cleaning\n",
    "    with open(file_new, \"r\",encoding='utf-8') as input_file:\n",
    "        content = input_file.read()\n",
    "\n",
    "    # Clean the content (remove multiple white spaces) and newline characters,use lowercase\n",
    "    #cleaned_content = re.sub(\"( )+|(\\n)+\",\" \",content).lower()\n",
    "    cleaned_content = ' '.join(content.split())\n",
    "\n",
    "    # Reopen the file for writing the cleaned content\n",
    "    with open(file_new, \"w\",encoding='utf-8') as output_file:\n",
    "        output_file.write(cleaned_content)"
   ]
  },
  {
   "cell_type": "markdown",
   "id": "f41424fe-6083-4067-b325-dc120e7e468c",
   "metadata": {},
   "source": [
    "# Shingler Class:\n",
    "A class Shingling that constructs k–shingles of a given length k (e.g., 10) from a given document, computes a hash value for each unique shingle and represents the document in the form of an ordered set of its hashed k-shingles."
   ]
  },
  {
   "cell_type": "markdown",
   "id": "df47015f-dc19-4f85-bc5b-534ee1cc243e",
   "metadata": {},
   "source": [
    "The __init__ method to initialize the values of shingle_size and text_file. \n",
    "The _generate_shingles method within the class takes the text_file as input and returns a set of shingles."
   ]
  },
  {
   "cell_type": "code",
   "execution_count": 3,
   "id": "d7226e21-4529-4d95-86d6-42253ff91d9c",
   "metadata": {},
   "outputs": [],
   "source": [
    "class Shingler:\n",
    "    def __init__(self, text_file, shingle_size):\n",
    "        self.shingle_size = shingle_size\n",
    "        self.text_file = text_file\n",
    "\n",
    "    def _generate_shingles(self):\n",
    "        shingles = set()\n",
    "        document_length = len(self.text_file)\n",
    "\n",
    "        for i in range(document_length - self.shingle_size + 1):\n",
    "            shingle = self.text_file[i:i + self.shingle_size]\n",
    "            shingles.add(hash(shingle))\n",
    "\n",
    "        return sorted(list(shingles))\n",
    "     "
   ]
  },
  {
   "cell_type": "code",
   "execution_count": 4,
   "id": "b301ae49-5e41-424d-9676-3bbeb2a60dbf",
   "metadata": {},
   "outputs": [],
   "source": [
    "# Example usage:\n",
    "shingle_size_value = 5\n",
    "\n",
    "# Get a list of all .txt files in subdirectories\n",
    "files_txt_path = glob.glob(\"*/*.txt\")\n",
    "\n",
    "# Open the file and read its content\n",
    "with open(files_txt_path[0], 'r') as file:\n",
    "    text_file_content = file.read()\n",
    "\n",
    "    # Create an instance of the Shingler class\n",
    "    shingler_instance = Shingler(text_file_content, shingle_size_value)\n",
    "\n",
    "    # Generate and print the shingles\n",
    "    result = shingler_instance._generate_shingles()\n",
    "    #print(result)"
   ]
  },
  {
   "cell_type": "markdown",
   "id": "0490751d-d73d-44d1-9570-f7c481b56e02",
   "metadata": {},
   "source": [
    "# CompareSet Class:\n",
    "A class CompareSets computes the Jaccard similarity of two sets of integers – two sets of hashed shingles.\n",
    "\n",
    "The Jaccard similarity between two sets A and B is the size of their intersection divided by the size of their union."
   ]
  },
  {
   "cell_type": "code",
   "execution_count": 5,
   "id": "4d0b0e38-9e30-41fa-b9a0-9a3a9c6abc7b",
   "metadata": {},
   "outputs": [],
   "source": [
    "class CompareSets:\n",
    "    def __init__(self, set1, set2):\n",
    "        self.set1 = set(set1)\n",
    "        self.set2 = set(set2)\n",
    "\n",
    "    def jaccard_similarity(self):\n",
    "        intersection_size = len(self.set1.intersection(self.set2))\n",
    "        union_size = len(self.set1.union(self.set2))\n",
    "\n",
    "        if union_size == 0:\n",
    "            return 0.0  # Handle the case when both sets are empty\n",
    "        else:\n",
    "            return intersection_size / union_size\n"
   ]
  },
  {
   "cell_type": "code",
   "execution_count": 6,
   "id": "7b9b1061-ad4f-4c91-81c3-3e2eb19c2b3e",
   "metadata": {},
   "outputs": [
    {
     "name": "stdout",
     "output_type": "stream",
     "text": [
      "Jaccard Similarity: 0.26867931249443405\n"
     ]
    }
   ],
   "source": [
    "# Example usage:\n",
    "\n",
    "shingle_size_value = 5\n",
    "\n",
    "# Get a list of all .txt files in subdirectories\n",
    "files_txt_path = glob.glob(\"*/*.txt\")\n",
    "\n",
    "# Open the file and read its content\n",
    "with open(files_txt_path[0], 'r', encoding='utf-8') as file:\n",
    "    text_file_content_1 = file.read()\n",
    "\n",
    "# Open the file and read its content\n",
    "with open(files_txt_path[1], 'r', encoding='utf-8') as file:\n",
    "    text_file_content_2 = file.read()\n",
    "\n",
    "# Create instances of the Shingler class\n",
    "shingler_instance_1 = Shingler(text_file_content_1, shingle_size_value)\n",
    "shingler_instance_2 = Shingler(text_file_content_2, shingle_size_value)\n",
    "\n",
    "# Generate and print the shingles\n",
    "hashed_shingles_set_1 = shingler_instance_1._generate_shingles()\n",
    "hashed_shingles_set_2 = shingler_instance_2._generate_shingles()\n",
    "\n",
    "# Create an instance of CompareSets for Jaccard Similarity\n",
    "compare_sets_instance = CompareSets(hashed_shingles_set_1, hashed_shingles_set_2)\n",
    "\n",
    "# Estimate similarity using Jaccard Similarity\n",
    "similarity = compare_sets_instance.jaccard_similarity()\n",
    "\n",
    "print(f\"Jaccard Similarity: {similarity}\")\n"
   ]
  },
  {
   "cell_type": "code",
   "execution_count": null,
   "id": "12b4367a",
   "metadata": {},
   "outputs": [],
   "source": []
  },
  {
   "cell_type": "markdown",
   "id": "3e6b0267-d9ef-4afe-a3ae-49bacc1eeff8",
   "metadata": {},
   "source": [
    "# Minhash Class: \n",
    "A class MinHashing that builds a minHash signature (in the form of a set of hashed shingles) using K random hash functions (sig_size), we’ll get a MinHash signature with K values for each set. \n",
    "\n",
    "+ The minash of a set can be seen as  a unique signature with a fixed length (The MinHashing for a set preserves Jaccard similarity (approximate)).\n",
    "\n",
    "+ Take the first hash function, and apply it to all of the shingle values in a document.\n",
    "\n",
    "+ Find the minimum hash value produced and use it as the first component of the MinHash signature.\n",
    "+  take the second hash function, and again find the minimum resulting hash value, and use this as the second component.\n",
    "+ And so on…"
   ]
  },
  {
   "cell_type": "code",
   "execution_count": 7,
   "id": "1a1097d8-1480-4ef6-b361-6323dfc0077e",
   "metadata": {},
   "outputs": [],
   "source": [
    "class MinHashing:\n",
    "    def __init__(self, hashed_shingles, signature_length):\n",
    "        self.hashed_shingles = hashed_shingles\n",
    "        self.signature_length = signature_length\n",
    "        self.coefficients = np.random.randint(1, 100, size=self.signature_length)\n",
    "        self.bias_terms = np.random.randint(1, 100, size=self.signature_length)\n",
    "        self.mod_values = np.ones(self.signature_length) * 2**32 - 1\n",
    "\n",
    "    def hash_value(self, value, index):\n",
    "        return (self.coefficients[index] * value + self.bias_terms[index]) % self.mod_values[index]\n",
    "\n",
    "    def compute_minhash_signature(self):\n",
    "        if not self.hashed_shingles:\n",
    "            raise ValueError(\"Input set of hashed shingles cannot be empty\")\n",
    "\n",
    "        signature = []\n",
    "\n",
    "        for i in range(self.signature_length):\n",
    "            min_hash_value = float('inf')\n",
    "            for hashed_shingle in self.hashed_shingles:\n",
    "                hash_result = self.hash_value(hashed_shingle, i)\n",
    "                min_hash_value = min(min_hash_value, hash_result)\n",
    "\n",
    "            signature.append(min_hash_value)\n",
    "\n",
    "        return signature"
   ]
  },
  {
   "cell_type": "code",
   "execution_count": 8,
   "id": "bbc15dd2-82ce-43cf-bdfb-4bf33279cc00",
   "metadata": {},
   "outputs": [
    {
     "name": "stdout",
     "output_type": "stream",
     "text": [
      "MinHash Signature: [565469.0, 607811.0, 31198.0, 141913.0, 433830.0, 333608.0, 607811.0, 265340.0, 147030.0, 505806.0, 66335.0, 531164.0, 47309.0, 125842.0, 60773.0, 173826.0, 182005.0, 456038.0, 41923.0, 32212.0, 304468.0, 64424.0, 433830.0, 412441.0, 41818.0, 265139.0, 76211.0, 47309.0, 3767.0, 174048.0, 265139.0, 70700.0, 49091.0, 65413.0, 321966.0, 604299.0, 331291.0, 88231.0, 32468.0, 73515.0, 121562.0, 50103.0, 128848.0, 182005.0, 91003.0, 412441.0, 243124.0, 88231.0, 434432.0, 433830.0, 132791.0, 220822.0, 24540.0, 654403.0, 174048.0, 256608.0, 96892.0, 65349.0, 208941.0, 106355.0, 654403.0, 54035.0, 76211.0, 521477.0, 313283.0, 189252.0, 74643.0, 608835.0, 101109.0, 607811.0, 364523.0, 30387.0, 521477.0, 47309.0, 149943.0, 32212.0, 32720.0, 664083.0, 233533.0, 65413.0, 64424.0, 248468.0, 153446.0, 662583.0, 182005.0, 654403.0, 104470.0, 152422.0, 73515.0, 30387.0, 32212.0, 456038.0, 165646.0, 128848.0, 15855.0, 142425.0, 505806.0, 662583.0, 265340.0, 377913.0] 100\n"
     ]
    }
   ],
   "source": [
    "# Example usage:\n",
    "shingle_size_value = 5\n",
    "\n",
    "# Get a list of all .txt files in subdirectories\n",
    "files_txt_path = glob.glob(\"*/*.txt\")\n",
    "\n",
    "# Open the file and read its content\n",
    "with open(files_txt_path[0], 'r', encoding='utf-8') as file:\n",
    "    text_file_content = file.read()\n",
    "\n",
    "    # Create an instance of the Shingler class\n",
    "    shingler_instance = Shingler(text_file_content, shingle_size_value)\n",
    "\n",
    "    # Generate and print the shingles\n",
    "    hashed_shingles_set = shingler_instance._generate_shingles()\n",
    "       \n",
    "    signature_length = 100\n",
    "    \n",
    "    # Create a MinHashing instance\n",
    "minhashing_instance = MinHashing(hashed_shingles_set, signature_length)\n",
    "\n",
    "# Compute MinHash signature for the set of hashed shingles\n",
    "minhash_signature = minhashing_instance.compute_minhash_signature()\n",
    "\n",
    "# Print the MinHash signature\n",
    "print(\"MinHash Signature:\", minhash_signature, len(minhash_signature))"
   ]
  },
  {
   "cell_type": "markdown",
   "id": "4ec6112b-e360-4b75-96cd-e4c2cd0b0ae6",
   "metadata": {
    "tags": []
   },
   "source": [
    "# Jaccard Similarity Estimation:\n",
    "\n",
    "The key insight of MinHash is that the probability that the minimum hash value for a set accurately represents its intersection with another set is equal to the Jaccard similarity of the sets.\n",
    "Implementation Steps:\n",
    "\n",
    "To estimate the Jaccard similarity between two sets, compare their MinHash signatures.\n",
    "The fraction of hash functions for which the signatures match gives an estimate of the Jaccard similarity."
   ]
  },
  {
   "cell_type": "code",
   "execution_count": 8,
   "id": "90ff7637-255a-4d93-b298-c8d48ce5aa2a",
   "metadata": {},
   "outputs": [],
   "source": [
    "class CompareSignatures:\n",
    "    def __init__(self, signatures_set_doc1, signatures_set_doc2, no_hash_functions):\n",
    "        self.signatures_set_doc1 = set(signatures_set_doc1)\n",
    "        self.signatures_set_doc2 = set(signatures_set_doc2)\n",
    "        self.no_hash_functions = no_hash_functions\n",
    "\n",
    "    def estimate_jaccard_similarity(self):\n",
    "       \n",
    "        intersection = len(list(self.signatures_set_doc1.intersection(self.signatures_set_doc2)))\n",
    "        \n",
    "        if self.no_hash_functions == 0:\n",
    "            return 0.0  # Handle the case when no hash functions are used\n",
    "        \n",
    "        return float(intersection) / self.no_hash_functions\n"
   ]
  },
  {
   "cell_type": "code",
   "execution_count": 10,
   "id": "f0def42c-3737-4984-808c-b0afe5b1cee3",
   "metadata": {},
   "outputs": [
    {
     "name": "stdout",
     "output_type": "stream",
     "text": [
      "Estimated Similarity: 0.11\n"
     ]
    }
   ],
   "source": [
    "# Example usage:\n",
    "\n",
    "shingle_size_value = 5\n",
    "no_hash_functions = 100\n",
    "\n",
    "# Get a list of all .txt files in subdirectories\n",
    "files_txt_path = glob.glob(\"*/*.txt\")\n",
    "\n",
    "# Open the file and read its content\n",
    "with open(files_txt_path[0], 'r', encoding='utf-8') as file:\n",
    "    text_file_content_1 = file.read()\n",
    "\n",
    "# Open the file and read its content\n",
    "with open(files_txt_path[1], 'r', encoding='utf-8') as file:\n",
    "    text_file_content_2 = file.read()\n",
    "\n",
    "# Create instances of the Shingler class\n",
    "shingler_instance_1 = Shingler(text_file_content_1, shingle_size_value)\n",
    "shingler_instance_2 = Shingler(text_file_content_2, shingle_size_value)\n",
    "\n",
    "# Generate and print the shingles\n",
    "hashed_shingles_set_1 = shingler_instance_1._generate_shingles()\n",
    "hashed_shingles_set_2 = shingler_instance_2._generate_shingles()\n",
    "\n",
    "# Create MinHashing instances\n",
    "minhashing_instance_1 = MinHashing(hashed_shingles_set_1, no_hash_functions)\n",
    "minhashing_instance_2 = MinHashing(hashed_shingles_set_2, no_hash_functions)\n",
    "\n",
    "# Compute MinHash signature for the set of hashed shingles\n",
    "minhash_signature_1 = minhashing_instance_1.compute_minhash_signature()\n",
    "minhash_signature_2 = minhashing_instance_2.compute_minhash_signature()\n",
    "\n",
    "# Create an instance of CompareSets for Jaccard Similarity\n",
    "compare_signatures_instance = CompareSignatures(minhash_signature_1, minhash_signature_2,no_hash_functions)\n",
    "\n",
    "# Estimate similarity using Jaccard Similarity\n",
    "similarity_estimate = compare_signatures_instance. estimate_jaccard_similarity()\n",
    "\n",
    "print(f\"Estimated Similarity: {similarity_estimate}\")\n"
   ]
  },
  {
   "cell_type": "markdown",
   "id": "31f33a57-52ed-4b24-a397-24bd4da78106",
   "metadata": {},
   "source": [
    "# Evaluation ( Shingles vs. Minhash)\n",
    "+ Accuracy: we will compare the simalarity values (Hashed Shingles vs. Minhash)\n",
    "+ The implementation's scalability (the execution time versus the size of the input dataset"
   ]
  },
  {
   "cell_type": "code",
   "execution_count": 15,
   "id": "8b8bba21-9986-433f-a192-6bf84ec34a61",
   "metadata": {},
   "outputs": [],
   "source": [
    "import glob\n",
    "import numpy as np\n",
    "\n",
    "# Accuracy\n",
    "\n",
    "shingle_size_value = 5\n",
    "no_hash_functions = 100\n",
    "n_files = 20  # Corrected the variable name\n",
    "\n",
    "# Get a list of all .txt files in subdirectories\n",
    "files_txt_path = glob.glob(\"*/*.txt\")\n",
    "# Lists to store results\n",
    "my_value_Jaccard = np.zeros(n_files)\n",
    "my_value_minHash = np.zeros(n_files)\n",
    "\n",
    "# Open the first file and read its content\n",
    "with open(files_txt_path[0], 'r', encoding='utf-8') as file:\n",
    "    text_file_content_1 = file.read()\n",
    "    shingler_instance_1 = Shingler(text_file_content_1, shingle_size_value)\n",
    "    hashed_shingles_set_1 = shingler_instance_1._generate_shingles()\n",
    "    minhashing_instance_1 = MinHashing(hashed_shingles_set_1, no_hash_functions)\n",
    "    minhash_signature_1 = minhashing_instance_1.compute_minhash_signature()\n",
    "\n",
    "# Open other files and read their content\n",
    "for indx in range(n_files):\n",
    "    with open(files_txt_path[indx], 'r', encoding='utf-8') as file:\n",
    "        text_file_content_2 = file.read()\n",
    "        shingler_instance_2 = Shingler(text_file_content_2, shingle_size_value)\n",
    "        hashed_shingles_set_2 = shingler_instance_2._generate_shingles()\n",
    "        minhashing_instance_2 = MinHashing(hashed_shingles_set_2, no_hash_functions)\n",
    "        minhash_signature_2 = minhashing_instance_2.compute_minhash_signature()\n",
    "\n",
    "        compare_sets_instance = CompareSets(hashed_shingles_set_1, hashed_shingles_set_2)\n",
    "        similarity_Jaccard = compare_sets_instance.jaccard_similarity()\n",
    "        my_value_Jaccard[indx] = similarity_Jaccard\n",
    "\n",
    "        compare_signatures_instance = CompareSignatures(minhash_signature_1, minhash_signature_2, no_hash_functions)\n",
    "        similarity_estimate = compare_signatures_instance.estimate_jaccard_similarity()\n",
    "        my_value_minHash[indx] = similarity_estimate"
   ]
  },
  {
   "cell_type": "code",
   "execution_count": 16,
   "id": "291aee1c-3c7f-4feb-8bd8-3437d4ff9624",
   "metadata": {},
   "outputs": [
    {
     "data": {
      "image/png": "[encoded data removed]",
      "text/plain": [
       "<Figure size 432x288 with 1 Axes>"
      ]
     },
     "metadata": {
      "needs_background": "light"
     },
     "output_type": "display_data"
    }
   ],
   "source": [
    "# Accuracy Plot\n",
    "import matplotlib.pyplot as plt\n",
    "\n",
    "# Plotting the results\n",
    "# Set x-values as range from 1 to the list size\n",
    "ix_d = range(1, len(my_value_Jaccard) + 1)\n",
    "plt.plot(ix_d, my_value_Jaccard, label='Jaccard Similarity')\n",
    "plt.plot(ix_d, my_value_minHash, label='MinHash Similarity Estimate')\n",
    "\n",
    "# Adding labels and title\n",
    "plt.xlabel('File Numbers')\n",
    "plt.ylabel('Similarity_Value')\n",
    "plt.title('Document Similarity to TextFile_0')\n",
    "\n",
    "# Adding legend\n",
    "plt.legend()\n",
    "\n",
    "# Show the plot\n",
    "plt.show()"
   ]
  },
  {
   "cell_type": "markdown",
   "id": "b8d89be5",
   "metadata": {},
   "source": [
    "Evaluation: Execution time for text similarity check (Shingles vs. Minhash)"
   ]
  },
  {
   "cell_type": "code",
   "execution_count": 17,
   "id": "50aa87fa",
   "metadata": {},
   "outputs": [],
   "source": [
    "def list_shingles(txt_files, shingle_size_k_value):\n",
    "    # Create a list to store hashed shingles for each document\n",
    "    shingles_list = []\n",
    "\n",
    "    # Iterate through each text file\n",
    "    for txt_file in txt_files:\n",
    "        # Create a Shingling instance for the document\n",
    "        shingler_instance = Shingler(txt_file, shingle_size_k_value)\n",
    "\n",
    "        # Get the ordered set of hashed shingles for the document\n",
    "        hashed_shingles = shingler_instance._generate_shingles()\n",
    "        \n",
    "        # Append the hashed shingles to the list\n",
    "        shingles_list.append(hashed_shingles)\n",
    "\n",
    "    return shingles_list"
   ]
  },
  {
   "cell_type": "code",
   "execution_count": 18,
   "id": "9de9043b",
   "metadata": {},
   "outputs": [],
   "source": [
    "def calculate_jaccard_similarity_shingles(shingles_list):\n",
    "    # Create the Similarity Matrix, storing the percentage of similarity document by document\n",
    "    similarity_Jaccard_all = np.zeros((len(shingles_list), len(shingles_list)))\n",
    "\n",
    "    # Compute the Jaccard Similarity\n",
    "    for i in range(len(shingles_list)):\n",
    "        for j in range(len(shingles_list)):\n",
    "            compare_sets_instance_all = CompareSets(shingles_list[i], shingles_list[j])\n",
    "            similarity_Jaccard_all[i, j] = compare_sets_instance_all.jaccard_similarity()\n",
    "\n",
    "    return similarity_Jaccard_all"
   ]
  },
  {
   "cell_type": "code",
   "execution_count": 19,
   "id": "a80d91d7",
   "metadata": {},
   "outputs": [],
   "source": [
    "   def calculate_all_signature(no_hash_functions, shingles_list):\n",
    "    signatures_all = []\n",
    "\n",
    "    # For every set of shingles in the list of all shingles\n",
    "    for shingles in shingles_list:\n",
    "        # Apply the same hash function to every set of shingles (to every document's shingles)\n",
    "        minhashing_instance = MinHashing(shingles, no_hash_functions)\n",
    "        minhash_signature = minhashing_instance.compute_minhash_signature()\n",
    "\n",
    "        # Minimum hash value for a set at its index inside the list\n",
    "        signatures_all.append(minhash_signature)\n",
    "\n",
    "    return signatures_all\n",
    "     "
   ]
  },
  {
   "cell_type": "code",
   "execution_count": 20,
   "id": "db4ca048",
   "metadata": {},
   "outputs": [],
   "source": [
    "import numpy as np\n",
    "\n",
    "def estimate_jaccard_similarity(signatures_all, no_hash_functions, shingles_list):\n",
    "    # Create the Similarity Matrix, storing the percentage of similarity document by document\n",
    "    estimate_similarity_Jaccard_all = np.zeros((len(shingles_list), len(shingles_list)))\n",
    "    \n",
    "    # Compute the Jaccard Similarity\n",
    "    for i in range(len(shingles_list)):\n",
    "        for j in range(len(shingles_list)):\n",
    "            compare_signatures_instance = CompareSignatures(signatures_all[i], signatures_all[j], no_hash_functions)\n",
    "            estimate_similarity_Jaccard_all[i, j] = compare_signatures_instance.estimate_jaccard_similarity()\n",
    "\n",
    "    return estimate_similarity_Jaccard_all\n"
   ]
  },
  {
   "cell_type": "code",
   "execution_count": null,
   "id": "b50ee862",
   "metadata": {},
   "outputs": [],
   "source": [
    "import glob\n",
    "no_hash_functions = 100\n",
    "shingle_size_value = 5\n",
    "files_txt_path = glob.glob(\"*/*.txt\")\n",
    "l_file = files_txt_path[:2]\n",
    "print(l_file)\n",
    "\n",
    "all_shingles = list_shingles(l_file, shingle_size_value)\n",
    "\n",
    "#print (all_shingles[0])\n",
    "\n",
    "signatures = calculate_all_signature(no_hash_functions,all_shingles)\n",
    "\n",
    "print(signatures[0])\n",
    "print (len(signatures[0]))"
   ]
  },
  {
   "cell_type": "code",
   "execution_count": null,
   "id": "ca4fdf3b",
   "metadata": {},
   "outputs": [],
   "source": []
  },
  {
   "cell_type": "markdown",
   "id": "71279db9",
   "metadata": {},
   "source": [
    " Evaluating the execution time for Jaccard similarity computation with different numbers of documents"
   ]
  },
  {
   "cell_type": "code",
   "execution_count": 48,
   "id": "ee80ea52",
   "metadata": {},
   "outputs": [],
   "source": [
    "def count_items(matrix, threshold):\n",
    "    count = 0\n",
    "    j=1\n",
    "    for i in range(len(matrix)):\n",
    "        for j in range(len(matrix)):\n",
    "            if i != j and matrix[i][j] > threshold:\n",
    "                count += 1\n",
    "    return count"
   ]
  },
  {
   "cell_type": "code",
   "execution_count": 61,
   "id": "bfb5830a",
   "metadata": {},
   "outputs": [
    {
     "name": "stdout",
     "output_type": "stream",
     "text": [
      "---\n",
      "Number of documents:  5 ---\n",
      "Number of similar Pair Documents:  3.0 \n",
      "Time spent:  0.0\n",
      "---\n",
      "Number of documents:  10 ---\n",
      "Number of similar Pair Documents:  8.0 \n",
      "Time spent:  0.0\n",
      "---\n",
      "Number of documents:  15 ---\n",
      "Number of similar Pair Documents:  12.0 \n",
      "Time spent:  0.008271217346191406\n",
      "---\n",
      "Number of documents:  30 ---\n",
      "Number of similar Pair Documents:  26.0 \n",
      "Time spent:  0.012866735458374023\n",
      "---\n",
      "Number of documents:  35 ---\n",
      "Number of similar Pair Documents:  30.0 \n",
      "Time spent:  0.032402753829956055\n",
      "---\n",
      "Number of documents:  40 ---\n",
      "Number of similar Pair Documents:  35.0 \n",
      "Time spent:  0.01592874526977539\n",
      "---\n",
      "Number of documents:  45 ---\n",
      "Number of similar Pair Documents:  40.0 \n",
      "Time spent:  0.016364336013793945\n",
      "---\n",
      "Number of documents:  50 ---\n",
      "Number of similar Pair Documents:  44.0 \n",
      "Time spent:  0.007999420166015625\n",
      "---\n",
      "Number of documents:  55 ---\n",
      "Number of similar Pair Documents:  49.0 \n",
      "Time spent:  0.0\n"
     ]
    }
   ],
   "source": [
    "# Evaluating the execution time for Jaccard similarity computation with different numbers of documents\n",
    "import time\n",
    "import glob\n",
    "import numpy as np  # Don't forget to import numpy\n",
    "\n",
    "shingle_size_value = 10\n",
    "no_hash_functions = 100\n",
    "\n",
    "# Get a list of all .txt files in subdirectories\n",
    "files_txt_path = glob.glob(\"*/*.txt\")\n",
    "\n",
    "n_files = [5, 10, 15, 30, 35, 40, 45, 50, 55]\n",
    "t_shin_jacc_sim = []\n",
    "\n",
    "# Vary the number of documents\n",
    "for n_file in range(len(n_files)):\n",
    "    # start timer\n",
    "    t_start = time.time()\n",
    "    file_no = n_files[n_file]\n",
    "    \n",
    "    l_file = files_txt_path[:file_no]\n",
    "    all_shingles = list_shingles(l_file, shingle_size_value)\n",
    "    #print(len(all_shingles))  \n",
    "    # Compute the Jaccard Similarity\n",
    "    simil_shingles = calculate_jaccard_similarity_shingles(all_shingles, shingle_size_value)\n",
    "    #print(len(simil_shingles))   \n",
    "    t_stop = time.time() - t_start\n",
    "    t_shin_jacc_sim.append(t_stop)\n",
    "    \n",
    "    count= 0\n",
    "    for i in range(len(simil_shingles)):\n",
    "        for j in range(len(simil_shingles)):\n",
    "            if i != j and simil_shingles[i][j] > 0.5:\n",
    "                count += 1\n",
    "    \n",
    "    #count = count_items(simil_shingles, 0.5)\n",
    "                  \n",
    "    print(\"---\\nNumber of documents: \", len(all_shingles),\"---\\nNumber of similar Pair Documents: \", (count)/2, \"\\nTime spent: \", t_stop)\n",
    "    \n",
    "    #print(simil_shingles)"
   ]
  },
  {
   "cell_type": "markdown",
   "id": "ccd624a9",
   "metadata": {},
   "source": [
    " Evaluating the execution time for estimating similarity computation using Minhash with different numbers of documents"
   ]
  },
  {
   "cell_type": "code",
   "execution_count": 62,
   "id": "2d6abf95",
   "metadata": {},
   "outputs": [
    {
     "name": "stdout",
     "output_type": "stream",
     "text": [
      "---\n",
      "Number of documents:  5 ---\n",
      "Number of similar Pair Documents:  0.0 \n",
      "Time spent:  0.08754634857177734\n",
      "---\n",
      "Number of documents:  10 ---\n",
      "Number of similar Pair Documents:  3.0 \n",
      "Time spent:  0.09569859504699707\n",
      "---\n",
      "Number of documents:  15 ---\n",
      "Number of similar Pair Documents:  7.0 \n",
      "Time spent:  0.13392996788024902\n",
      "---\n",
      "Number of documents:  30 ---\n",
      "Number of similar Pair Documents:  17.0 \n",
      "Time spent:  0.30896663665771484\n",
      "---\n",
      "Number of documents:  35 ---\n",
      "Number of similar Pair Documents:  41.0 \n",
      "Time spent:  0.37435030937194824\n",
      "---\n",
      "Number of documents:  40 ---\n",
      "Number of similar Pair Documents:  28.0 \n",
      "Time spent:  0.39139223098754883\n",
      "---\n",
      "Number of documents:  45 ---\n",
      "Number of similar Pair Documents:  84.0 \n",
      "Time spent:  0.4301576614379883\n",
      "---\n",
      "Number of documents:  50 ---\n",
      "Number of similar Pair Documents:  94.0 \n",
      "Time spent:  0.5080947875976562\n",
      "---\n",
      "Number of documents:  55 ---\n",
      "Number of similar Pair Documents:  97.0 \n",
      "Time spent:  0.5429103374481201\n"
     ]
    }
   ],
   "source": [
    "import time\n",
    "import glob\n",
    "import numpy as np\n",
    "\n",
    "shingle_size_value = 10\n",
    "no_hash_functions = 100\n",
    "\n",
    "# Get a list of all .txt files in subdirectories\n",
    "files_txt_path = glob.glob(\"*/*.txt\")\n",
    "\n",
    "n_files = [5, 10, 15, 30, 35, 40, 45, 50, 55]\n",
    "t_shin_jacc_sim = []\n",
    "\n",
    "# Vary the number of documents\n",
    "for n_file in range(len(n_files)):\n",
    "    # start timer\n",
    "    t_start = time.time()\n",
    "    file_no = n_files[n_file]\n",
    "    \n",
    "    l_file = files_txt_path[:file_no]\n",
    "    all_shingles = list_shingles(l_file, shingle_size_value)\n",
    "    \n",
    "    signature_all = calculate_all_signature(no_hash_functions, all_shingles)\n",
    "    # Estimate the Jaccard Similarity\n",
    "    \n",
    "    simil_minHash = estimate_jaccard_similarity(signature_all, no_hash_functions, all_shingles)\n",
    "    \n",
    "        \n",
    "    t_stop = time.time() - t_start\n",
    "    t_shin_jacc_sim.append(t_stop)\n",
    "\n",
    "    count= 0\n",
    "    for i in range(len(simil_minHash)):\n",
    "        for j in range(len(simil_minHash)):\n",
    "            if i != j and simil_minHash[i][j] > 0.25:\n",
    "                count += 1\n",
    "    \n",
    "    print(\"---\\nNumber of documents: \", len(all_shingles),\"---\\nNumber of similar Pair Documents: \", (count)/2, \"\\nTime spent: \", t_stop)\n"
   ]
  },
  {
   "cell_type": "markdown",
   "id": "e6527491",
   "metadata": {},
   "source": [
    "\n"
   ]
  }
 ],
 "metadata": {
  "kernelspec": {
   "display_name": "Python 3 (ipykernel)",
   "language": "python",
   "name": "python3"
  },
  "language_info": {
   "codemirror_mode": {
    "name": "ipython",
    "version": 3
   },
   "file_extension": ".py",
   "mimetype": "text/x-python",
   "name": "python",
   "nbconvert_exporter": "python",
   "pygments_lexer": "ipython3",
   "version": "3.9.12"
  }
 },
 "nbformat": 4,
 "nbformat_minor": 5
}
